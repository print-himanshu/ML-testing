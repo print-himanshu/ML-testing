{
 "cells": [
  {
   "cell_type": "code",
   "execution_count": 1,
   "metadata": {},
   "outputs": [],
   "source": [
    "import numpy as np\n",
    "import matplotlib.pyplot as plt"
   ]
  },
  {
   "cell_type": "code",
   "execution_count": 21,
   "metadata": {},
   "outputs": [],
   "source": [
    "theta = np.array([[1,1.0]])\n",
    "theta = theta.T\n",
    "x = np.array([[1,2,3,4,5.0]])\n",
    "y = np.array([[3,5,7,9,11]])\n",
    "alpha = 0.1\n",
    "m = y.shape[1]\n",
    "epsillion = 0.0001"
   ]
  },
  {
   "cell_type": "code",
   "execution_count": 22,
   "metadata": {},
   "outputs": [
    {
     "data": {
      "text/plain": [
       "array([[1., 1., 1., 1., 1.],\n",
       "       [1., 2., 3., 4., 5.]])"
      ]
     },
     "execution_count": 22,
     "metadata": {},
     "output_type": "execute_result"
    }
   ],
   "source": [
    "x = np.vstack((np.ones([1, x.shape[1]]), x))\n",
    "x"
   ]
  },
  {
   "cell_type": "markdown",
   "metadata": {},
   "source": [
    "# Hypothesis"
   ]
  },
  {
   "cell_type": "code",
   "execution_count": 23,
   "metadata": {},
   "outputs": [],
   "source": [
    "def h(theta, x):\n",
    "    return np.dot(theta.T, x)"
   ]
  },
  {
   "cell_type": "markdown",
   "metadata": {},
   "source": [
    "# Cost Function"
   ]
  },
  {
   "cell_type": "code",
   "execution_count": 5,
   "metadata": {},
   "outputs": [],
   "source": [
    "def J(theta, m , x, y):\n",
    "    cost =  (1/ (2 * m)) * np.sum((h(theta, x) - y)** 2, axis = 1)\n",
    "    return cost[0]"
   ]
  },
  {
   "cell_type": "markdown",
   "metadata": {},
   "source": [
    "# Gradient Descent Update"
   ]
  },
  {
   "cell_type": "code",
   "execution_count": 31,
   "metadata": {},
   "outputs": [],
   "source": [
    "def update(theta, alpha, m, x, y):\n",
    "    return theta  - (alpha/ m) * np.dot(x, (h(theta, x) - y).T)"
   ]
  },
  {
   "cell_type": "markdown",
   "metadata": {},
   "source": [
    "# Testing"
   ]
  },
  {
   "cell_type": "code",
   "execution_count": 24,
   "metadata": {},
   "outputs": [
    {
     "data": {
      "text/plain": [
       "array([[2., 3., 4., 5., 6.]])"
      ]
     },
     "execution_count": 24,
     "metadata": {},
     "output_type": "execute_result"
    }
   ],
   "source": [
    "h(theta, x)"
   ]
  },
  {
   "cell_type": "code",
   "execution_count": 25,
   "metadata": {},
   "outputs": [
    {
     "data": {
      "text/plain": [
       "(2, 1)"
      ]
     },
     "execution_count": 25,
     "metadata": {},
     "output_type": "execute_result"
    }
   ],
   "source": [
    "theta.shape"
   ]
  },
  {
   "cell_type": "code",
   "execution_count": 26,
   "metadata": {},
   "outputs": [
    {
     "data": {
      "text/plain": [
       "5.5"
      ]
     },
     "execution_count": 26,
     "metadata": {},
     "output_type": "execute_result"
    }
   ],
   "source": [
    "cost = J(theta, m , x, y)\n",
    "cost"
   ]
  },
  {
   "cell_type": "code",
   "execution_count": 32,
   "metadata": {},
   "outputs": [
    {
     "data": {
      "text/plain": [
       "array([[1.3],\n",
       "       [2.1]])"
      ]
     },
     "execution_count": 32,
     "metadata": {},
     "output_type": "execute_result"
    }
   ],
   "source": [
    "update(theta, alpha, m , x, y)"
   ]
  },
  {
   "cell_type": "markdown",
   "metadata": {},
   "source": [
    "# Batch Gradient Descent"
   ]
  },
  {
   "cell_type": "code",
   "execution_count": 33,
   "metadata": {},
   "outputs": [
    {
     "name": "stdout",
     "output_type": "stream",
     "text": [
      "1 : cost = 5.5\n",
      "2 : cost = 0.19000000000000036\n",
      "3 : cost = 0.011799999999999991\n",
      "4 : cost = 0.005644000000000011\n",
      "5 : cost = 0.005261680000000008\n",
      "6 : cost = 0.005078814399999999\n",
      "7 : cost = 0.004908335967999985\n",
      "8 : cost = 0.004743782381440002\n",
      "9 : cost = 0.004584752296076801\n",
      "10 : cost = 0.004431053746918135\n",
      "11 : cost = 0.004282507772525284\n",
      "12 : cost = 0.0041389416311251115\n",
      "13 : cost = 0.004000188379295277\n",
      "14 : cost = 0.003866086670446833\n",
      "15 : cost = 0.0037364805669576704\n",
      "16 : cost = 0.003611219358835158\n",
      "17 : cost = 0.0034901573884657277\n",
      "18 : cost = 0.0033731538812395018\n",
      "19 : cost = 0.0032600727818531843\n",
      "20 : cost = 0.0031507825961010444\n",
      "21 : cost = 0.0030451562379690024\n",
      "22 : cost = 0.0029430708818553165\n",
      "23 : cost = 0.002844407819745114\n",
      "24 : cost = 0.0027490523231730162\n",
      "25 : cost = 0.002656893509813274\n",
      "26 : cost = 0.002567824214542478\n",
      "27 : cost = 0.0024817408648245237\n",
      "28 : cost = 0.0023985433602733497\n",
      "29 : cost = 0.0023181349562530077\n",
      "30 : cost = 0.0022404221513801694\n",
      "31 : cost = 0.0021653145787975587\n",
      "32 : cost = 0.002092724901092862\n",
      "33 : cost = 0.002022568708739806\n",
      "34 : cost = 0.0019547644219444155\n",
      "35 : cost = 0.0018892331957812343\n",
      "36 : cost = 0.0018258988285102331\n",
      "37 : cost = 0.001764687672966929\n",
      "38 : cost = 0.001705528550923188\n",
      "39 : cost = 0.0016483526703190512\n",
      "40 : cost = 0.0015930935452691524\n",
      "41 : cost = 0.0015396869187508117\n",
      "42 : cost = 0.0014880706878840908\n",
      "43 : cost = 0.0014381848317165736\n",
      "44 : cost = 0.001389971341429128\n",
      "45 : cost = 0.001343374152881515\n",
      "46 : cost = 0.0012983390814192053\n",
      "47 : cost = 0.0012548137588658456\n",
      "48 : cost = 0.0012127475726278634\n",
      "49 : cost = 0.0011720916068406083\n",
      "50 : cost = 0.0011327985854874638\n",
      "51 : cost = 0.0010948228174258335\n",
      "52 : cost = 0.0010581201432560206\n",
      "53 : cost = 0.0010226478839714277\n",
      "54 : cost = 0.0009883647913299482\n",
      "55 : cost = 0.0009552309998892682\n",
      "56 : cost = 0.0009232079806501727\n",
      "57 : cost = 0.0008922584962537579\n",
      "58 : cost = 0.0008623465576807097\n",
      "59 : cost = 0.0008334373824020674\n",
      "60 : cost = 0.0008054973539332107\n",
      "61 : cost = 0.0007784939827433848\n",
      "62 : cost = 0.0007523958684759487\n",
      "63 : cost = 0.0007271726634350602\n",
      "64 : cost = 0.0007027950372964438\n",
      "65 : cost = 0.000679234643001154\n",
      "66 : cost = 0.0006564640837927449\n",
      "67 : cost = 0.0006344568813595108\n",
      "68 : cost = 0.0006131874450446182\n",
      "69 : cost = 0.0005926310420885828\n",
      "70 : cost = 0.0005727637688691374\n",
      "71 : cost = 0.0005535625231054695\n",
      "72 : cost = 0.0005350049769941092\n",
      "73 : cost = 0.0005170695512454847\n",
      "74 : cost = 0.0004997353899908709\n",
      "75 : cost = 0.00048298233653051333\n",
      "76 : cost = 0.00046679090989481793\n",
      "77 : cost = 0.0004511422821912288\n",
      "78 : cost = 0.0004360182567106339\n",
      "79 : cost = 0.0004214012467676398\n",
      "80 : cost = 0.00040727425525021154\n",
      "81 : cost = 0.0003936208548549497\n",
      "82 : cost = 0.0003804251689848372\n",
      "83 : cost = 0.0003676718532875308\n",
      "84 : cost = 0.000355346077812425\n",
      "85 : cost = 0.0003434335097659125\n",
      "86 : cost = 0.0003319202968447872\n",
      "87 : cost = 0.00032079305112836347\n",
      "88 : cost = 0.00031003883351060315\n",
      "89 : cost = 0.00029964513865404324\n",
      "90 : cost = 0.0002895998804482954\n",
      "91 : cost = 0.0002798913779559064\n",
      "92 : cost = 0.000270508341829377\n",
      "93 : cost = 0.0002614398611836139\n",
      "94 : cost = 0.00025267539090833825\n",
      "95 : cost = 0.00024420473940599193\n",
      "96 : cost = 0.00023601805674056543\n",
      "97 : cost = 0.0002281058231838122\n",
      "98 : cost = 0.00022045883814540685\n",
      "99 : cost = 0.00021306820947425507\n",
      "100 : cost = 0.00020592534311834518\n",
      "101 : cost = 0.00019902193313138468\n",
      "102 : cost = 0.0001923499520143406\n",
      "103 : cost = 0.00018590164138088558\n",
      "104 : cost = 0.0001796695029356331\n",
      "105 : cost = 0.0001736462897548801\n",
      "106 : cost = 0.00016782499785977114\n",
      "107 : cost = 0.0001621988580717113\n",
      "108 : cost = 0.0001567613281410535\n",
      "109 : cost = 0.00015150608513952698\n",
      "110 : cost = 0.0001464270181077597\n",
      "111 : cost = 0.0001415182209492355\n",
      "112 : cost = 0.00013677398556255035\n",
      "113 : cost = 0.000132188795203793\n",
      "114 : cost = 0.00012775731807156067\n",
      "115 : cost = 0.0001234744011069626\n",
      "116 : cost = 0.00011933506400144429\n",
      "117 : cost = 0.00011533449340557831\n",
      "118 : cost = 0.00011146803733192749\n",
      "119 : cost = 0.00010773119974558676\n",
      "120 : cost = 0.00010411963533602969\n",
      "121 : cost = 0.00010062914446427008\n",
      "122 : cost = 9.725566827939355e-05\n"
     ]
    }
   ],
   "source": [
    "data_x = []\n",
    "data_y = []\n",
    "\n",
    "iteration = 0\n",
    "cost = J(theta, m , x, y)\n",
    "while cost > epsillion:\n",
    "    data_x.append(iteration)\n",
    "    data_y.append(cost)\n",
    "    \n",
    "    cost = J(theta, m , x, y)\n",
    "    theta = update(theta, alpha, m, x, y)\n",
    "\n",
    "    iteration += 1\n",
    "    print(f\"{iteration} : cost = {cost}\")"
   ]
  },
  {
   "cell_type": "markdown",
   "metadata": {},
   "source": [
    "# Checking gradient check working"
   ]
  },
  {
   "cell_type": "code",
   "execution_count": 34,
   "metadata": {},
   "outputs": [
    {
     "data": {
      "image/png": "[encoded data removed]",
      "text/plain": [
       "<Figure size 576x288 with 1 Axes>"
      ]
     },
     "metadata": {
      "needs_background": "light"
     },
     "output_type": "display_data"
    }
   ],
   "source": [
    "plt.figure(figsize = (8,4))\n",
    "plt.plot(data_x, data_y)\n",
    "plt.xlabel(\"Iteration\")\n",
    "plt.ylabel(\"Cost\")\n",
    "plt.title(\"Gradient descent Check\")\n",
    "plt.show()"
   ]
  },
  {
   "cell_type": "code",
   "execution_count": 35,
   "metadata": {},
   "outputs": [
    {
     "data": {
      "text/plain": [
       "array([[1.03213745],\n",
       "       [1.99109844]])"
      ]
     },
     "execution_count": 35,
     "metadata": {},
     "output_type": "execute_result"
    }
   ],
   "source": [
    "theta"
   ]
  },
  {
   "cell_type": "code",
   "execution_count": 36,
   "metadata": {},
   "outputs": [
    {
     "data": {
      "text/plain": [
       "array([[ 3.02323589,  5.01433433,  7.00543278,  8.99653122, 10.98762966]])"
      ]
     },
     "execution_count": 36,
     "metadata": {},
     "output_type": "execute_result"
    }
   ],
   "source": [
    "h(theta, x)"
   ]
  },
  {
   "cell_type": "markdown",
   "metadata": {},
   "source": [
    "# Normal Equation"
   ]
  },
  {
   "cell_type": "code",
   "execution_count": 37,
   "metadata": {},
   "outputs": [
    {
     "data": {
      "text/plain": [
       "array([[1., 2.]])"
      ]
     },
     "execution_count": 37,
     "metadata": {},
     "output_type": "execute_result"
    }
   ],
   "source": [
    "theta_normal = y @ (np.linalg.pinv(x.T @ x) @ x.T) \n",
    "theta_normal"
   ]
  }
 ],
 "metadata": {
  "interpreter": {
   "hash": "80101c2249ba180d7de53d0ea5a1c127e30cd6fcc94fe0f34ca72fc0040acb05"
  },
  "kernelspec": {
   "display_name": "Python 3.7.11 ('data-science')",
   "language": "python",
   "name": "python3"
  },
  "language_info": {
   "codemirror_mode": {
    "name": "ipython",
    "version": 3
   },
   "file_extension": ".py",
   "mimetype": "text/x-python",
   "name": "python",
   "nbconvert_exporter": "python",
   "pygments_lexer": "ipython3",
   "version": "3.7.11"
  },
  "orig_nbformat": 4
 },
 "nbformat": 4,
 "nbformat_minor": 2
}
