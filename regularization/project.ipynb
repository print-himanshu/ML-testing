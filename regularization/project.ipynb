{
 "cells": [
  {
   "cell_type": "code",
   "execution_count": 5,
   "metadata": {},
   "outputs": [
    {
     "data": {
      "text/plain": [
       "<Figure size 432x288 with 0 Axes>"
      ]
     },
     "metadata": {},
     "output_type": "display_data"
    }
   ],
   "source": [
    "# Module Import\n",
    "import deep_neural_network.deep_nn as nn\n",
    "import dropout_and_regularization as dr\n",
    "\n",
    "# Package Import \n",
    "import numpy as np\n",
    "import matplotlib.pyplot as plt\n",
    "import os\n",
    "import scipy.io as sio\n",
    "import pandas as pd\n",
    "\n",
    "\n",
    "plt.tight_layout()"
   ]
  },
  {
   "cell_type": "markdown",
   "metadata": {},
   "source": [
    "#   Loading Data"
   ]
  },
  {
   "cell_type": "code",
   "execution_count": 28,
   "metadata": {},
   "outputs": [],
   "source": [
    "def load_dataset():\n",
    "    path = os.path.join(os.getcwd(), 'data', 'data.mat')\n",
    "    data = sio.loadmat(path)\n",
    "\n",
    "    x_train = pd.DataFrame(\n",
    "        data['X'],\n",
    "        columns = ['x1','x2']\n",
    "    )\n",
    "\n",
    "    y_train= data['y'].T\n",
    "\n",
    "    x_test = data['Xval'].T\n",
    "\n",
    "    y_test = data['yval'].T\n",
    "\n",
    "    return x_train, y_train , x_test, y_test"
   ]
  },
  {
   "cell_type": "code",
   "execution_count": 29,
   "metadata": {},
   "outputs": [],
   "source": [
    "x_train, y_train, x_test, y_test = load_dataset()"
   ]
  },
  {
   "cell_type": "markdown",
   "metadata": {},
   "source": [
    "## Stats about Data"
   ]
  },
  {
   "cell_type": "code",
   "execution_count": 30,
   "metadata": {},
   "outputs": [
    {
     "name": "stdout",
     "output_type": "stream",
     "text": [
      "<class 'pandas.core.frame.DataFrame'>\n",
      "RangeIndex: 211 entries, 0 to 210\n",
      "Data columns (total 2 columns):\n",
      " #   Column  Non-Null Count  Dtype  \n",
      "---  ------  --------------  -----  \n",
      " 0   x1      211 non-null    float64\n",
      " 1   x2      211 non-null    float64\n",
      "dtypes: float64(2)\n",
      "memory usage: 3.4 KB\n"
     ]
    }
   ],
   "source": [
    "x_train.info()"
   ]
  },
  {
   "cell_type": "code",
   "execution_count": 31,
   "metadata": {},
   "outputs": [
    {
     "data": {
      "text/html": [
       "<div>\n",
       "<style scoped>\n",
       "    .dataframe tbody tr th:only-of-type {\n",
       "        vertical-align: middle;\n",
       "    }\n",
       "\n",
       "    .dataframe tbody tr th {\n",
       "        vertical-align: top;\n",
       "    }\n",
       "\n",
       "    .dataframe thead th {\n",
       "        text-align: right;\n",
       "    }\n",
       "</style>\n",
       "<table border=\"1\" class=\"dataframe\">\n",
       "  <thead>\n",
       "    <tr style=\"text-align: right;\">\n",
       "      <th></th>\n",
       "      <th>x1</th>\n",
       "      <th>x2</th>\n",
       "    </tr>\n",
       "  </thead>\n",
       "  <tbody>\n",
       "    <tr>\n",
       "      <th>count</th>\n",
       "      <td>211.000000</td>\n",
       "      <td>211.000000</td>\n",
       "    </tr>\n",
       "    <tr>\n",
       "      <th>mean</th>\n",
       "      <td>-0.130246</td>\n",
       "      <td>-0.059743</td>\n",
       "    </tr>\n",
       "    <tr>\n",
       "      <th>std</th>\n",
       "      <td>0.200516</td>\n",
       "      <td>0.314751</td>\n",
       "    </tr>\n",
       "    <tr>\n",
       "      <th>min</th>\n",
       "      <td>-0.596774</td>\n",
       "      <td>-0.657895</td>\n",
       "    </tr>\n",
       "    <tr>\n",
       "      <th>25%</th>\n",
       "      <td>-0.287903</td>\n",
       "      <td>-0.313889</td>\n",
       "    </tr>\n",
       "    <tr>\n",
       "      <th>50%</th>\n",
       "      <td>-0.130300</td>\n",
       "      <td>-0.052924</td>\n",
       "    </tr>\n",
       "    <tr>\n",
       "      <th>75%</th>\n",
       "      <td>0.013825</td>\n",
       "      <td>0.192690</td>\n",
       "    </tr>\n",
       "    <tr>\n",
       "      <th>max</th>\n",
       "      <td>0.297235</td>\n",
       "      <td>0.573392</td>\n",
       "    </tr>\n",
       "  </tbody>\n",
       "</table>\n",
       "</div>"
      ],
      "text/plain": [
       "               x1          x2\n",
       "count  211.000000  211.000000\n",
       "mean    -0.130246   -0.059743\n",
       "std      0.200516    0.314751\n",
       "min     -0.596774   -0.657895\n",
       "25%     -0.287903   -0.313889\n",
       "50%     -0.130300   -0.052924\n",
       "75%      0.013825    0.192690\n",
       "max      0.297235    0.573392"
      ]
     },
     "execution_count": 31,
     "metadata": {},
     "output_type": "execute_result"
    }
   ],
   "source": [
    "x_train.describe()"
   ]
  },
  {
   "cell_type": "code",
   "execution_count": 32,
   "metadata": {},
   "outputs": [
    {
     "data": {
      "text/plain": [
       "array([[<AxesSubplot:title={'center':'x1'}>,\n",
       "        <AxesSubplot:title={'center':'x2'}>]], dtype=object)"
      ]
     },
     "execution_count": 32,
     "metadata": {},
     "output_type": "execute_result"
    },
    {
     "data": {
      "image/png": "[encoded data removed]",
      "text/plain": [
       "<Figure size 432x288 with 2 Axes>"
      ]
     },
     "metadata": {
      "needs_background": "light"
     },
     "output_type": "display_data"
    }
   ],
   "source": [
    "x_train.hist()"
   ]
  },
  {
   "cell_type": "code",
   "execution_count": 33,
   "metadata": {},
   "outputs": [
    {
     "data": {
      "image/png": "[encoded data removed]",
      "text/plain": [
       "<Figure size 432x288 with 1 Axes>"
      ]
     },
     "metadata": {
      "needs_background": "light"
     },
     "output_type": "display_data"
    }
   ],
   "source": [
    "data_plot = plt.scatter(\n",
    "    x_train['x1'],\n",
    "    x_train['x2'],\n",
    "    c = y_train,\n",
    "    cmap = plt.cm.Spectral,\n",
    ")\n",
    "plt.xlabel('x1')\n",
    "plt.ylabel('x2')\n",
    "plt.legend(*data_plot.legend_elements(num = 2), loc = 'upper right', title = 'Score')\n",
    "\n",
    "\n",
    "\n",
    "\n",
    "plt.show()"
   ]
  },
  {
   "cell_type": "code",
   "execution_count": 34,
   "metadata": {},
   "outputs": [],
   "source": [
    "x_train = x_train.to_numpy().T"
   ]
  },
  {
   "cell_type": "markdown",
   "metadata": {},
   "source": [
    "## Models"
   ]
  },
  {
   "cell_type": "code",
   "execution_count": 35,
   "metadata": {},
   "outputs": [],
   "source": [
    "def non_regularized_model(x, y, learning_rate = 0.3, num_iterations = 30000, print_cost = True):\n",
    "    grads = {}\n",
    "    costs = []\n",
    "    m = x.shape[1]\n",
    "    layer_dims = [x.shape[0], 20, 3,1]\n",
    "    non_regularized_aL = []\n",
    "\n",
    "    parameters = nn.initialize_paraeters_deep(layer_dims)\n",
    "\n",
    "    for i in range(num_iterations):\n",
    "        aL, caches = nn.L_model_forward(x, parameters)\n",
    "        cost = nn.cross_entropy_cost(aL,y)\n",
    "        grads = nn.L_model_backward(aL, y , caches)\n",
    "        parameters = nn.update_parameters(parameters, grads, learning_rate)\n",
    "\n",
    "        if i%100 == 0:\n",
    "            non_regularized_aL.append(aL)\n",
    "\n",
    "        if i % 1000 == 0:\n",
    "            costs.append(cost)\n",
    "            if i % 5000 == 0:\n",
    "                if print_cost:\n",
    "                    print(f'Cost after iteration {i} is {cost}')\n",
    "\n",
    "\n",
    "    plt.plot(costs)\n",
    "    plt.ylabel(\"Cost\")\n",
    "    plt.xlabel(\"iteration (x1000)\")\n",
    "    plt.title(f\"Learning rate : {learning_rate}\")\n",
    "    plt.show()\n",
    "\n",
    "    return parameters, non_regularized_aL"
   ]
  },
  {
   "cell_type": "code",
   "execution_count": 63,
   "metadata": {},
   "outputs": [
    {
     "name": "stdout",
     "output_type": "stream",
     "text": [
      "Cost after iteration 0 is 0.6060964880245826\n",
      "Cost after iteration 5000 is 0.17543669167304096\n",
      "Cost after iteration 10000 is 0.1615262477846984\n",
      "Cost after iteration 15000 is 0.15112057543976545\n",
      "Cost after iteration 20000 is 0.1430166619457436\n",
      "Cost after iteration 25000 is 0.13900186948511392\n"
     ]
    },
    {
     "data": {
      "image/png": "[encoded data removed]",
      "text/plain": [
       "<Figure size 432x288 with 1 Axes>"
      ]
     },
     "metadata": {
      "needs_background": "light"
     },
     "output_type": "display_data"
    },
    {
     "name": "stdout",
     "output_type": "stream",
     "text": [
      "Accuracy (1st method) = 94.31279620853081\n",
      "Accuracy (2nd method) =94.3127962085308 \n",
      "Accuracy (1st method) = 94.0\n",
      "Accuracy (2nd method) =94.0 \n"
     ]
    }
   ],
   "source": [
    "non_regularized_parameters, non_regularized_aL = non_regularized_model(x_train, y_train)\n",
    "_ = nn.predict(x_train, y_train, non_regularized_parameters)\n",
    "_ = nn.predict(x_test, y_test, non_regularized_parameters)"
   ]
  },
  {
   "cell_type": "code",
   "execution_count": 37,
   "metadata": {},
   "outputs": [],
   "source": [
    "def regularized_model(x, y, lambda_var = 0.7, learning_rate = 0.3, numm_iterations = 30000, print_cost = True):\n",
    "    grads = {}\n",
    "    costs = []\n",
    "    m = x.shape[1]\n",
    "    layer_dims = [x.shape[0], 20, 3,1]\n",
    "\n",
    "    regularized_aL = []\n",
    "\n",
    "    parameters = nn.initialize_paraeters_deep(layer_dims)\n",
    "\n",
    "    for i in range(numm_iterations):\n",
    "        aL, caches = nn.L_model_forward(x, parameters)\n",
    "        cost = dr.cost_with_regulariztion(aL, y , parameters, lambda_var)\n",
    "        grads = dr.L_model_backward_with_regulariztion(aL, y , caches, lambda_var)\n",
    "        parameters = nn.update_parameters(parameters, grads, learning_rate)\n",
    "\n",
    "        if i%100 == 0:\n",
    "            regularized_aL.append(aL)\n",
    "\n",
    "        if i % 1000 == 0:\n",
    "            costs.append(cost)\n",
    "            if i % 5000 == 0:\n",
    "                if print_cost:\n",
    "                    print(f'Cost after iteration {i} is {cost}')\n",
    "\n",
    "\n",
    "    plt.plot(costs)\n",
    "    plt.ylabel(\"Cost\")\n",
    "    plt.xlabel(\"iteration (x1000)\")\n",
    "    plt.title(f\"Learning rate : {learning_rate}\")\n",
    "    plt.show()\n",
    "\n",
    "    return parameters, regularized_aL"
   ]
  },
  {
   "cell_type": "code",
   "execution_count": 62,
   "metadata": {},
   "outputs": [
    {
     "name": "stdout",
     "output_type": "stream",
     "text": [
      "Cost after iteration 0 is 0.6895108819546352\n",
      "Cost after iteration 5000 is 0.2666338561005501\n",
      "Cost after iteration 10000 is 0.2650753338800886\n",
      "Cost after iteration 15000 is 0.26511931747113077\n",
      "Cost after iteration 20000 is 0.2649092814689828\n",
      "Cost after iteration 25000 is 0.26483522785017644\n"
     ]
    },
    {
     "data": {
      "image/png": "[encoded data removed]",
      "text/plain": [
       "<Figure size 432x288 with 1 Axes>"
      ]
     },
     "metadata": {
      "needs_background": "light"
     },
     "output_type": "display_data"
    },
    {
     "name": "stdout",
     "output_type": "stream",
     "text": [
      "Accuracy (1st method) = 93.36492890995261\n",
      "Accuracy (2nd method) =93.36492890995261 \n",
      "Accuracy (1st method) = 92.5\n",
      "Accuracy (2nd method) =92.5 \n"
     ]
    }
   ],
   "source": [
    "regularized_parameters , regularized_aL= regularized_model(x_train, y_train)\n",
    "_ = nn.predict(x_train, y_train, regularized_parameters)\n",
    "_ = nn.predict(x_test, y_test, regularized_parameters)\n"
   ]
  },
  {
   "cell_type": "code",
   "execution_count": 39,
   "metadata": {},
   "outputs": [],
   "source": [
    "def dropout_model(x, y,keep_probs = 0.86, learning_rate = 0.3, numm_iterations = 1500, print_cost = True):\n",
    "    # 14% neurons will be dropped\n",
    "    grads = {}\n",
    "    costs = []\n",
    "    m = x.shape[1]\n",
    "    layer_dims = [x.shape[0], 20, 3,1]\n",
    "\n",
    "    parameters = nn.initialize_paraeters_deep(layer_dims)\n",
    "    dropout_aL = []\n",
    "\n",
    "    for i in range(numm_iterations):\n",
    "        aL, caches, d_list = dr.L_model_forward_with_dropout(x, parameters ,keep_probs)\n",
    "        cost = nn.cross_entropy_cost(aL, y)\n",
    "        grads = dr.L_model_backward_with_dropout(aL, y , caches, d_list, keep_probs)\n",
    "        parameters = nn.update_parameters(parameters, grads, learning_rate)\n",
    "\n",
    "        if i % 100 == 0:\n",
    "            costs.append(cost)\n",
    "            dropout_aL.append(aL)\n",
    "            if i % 500 == 0:\n",
    "                if print_cost:\n",
    "                    print(f'Cost after iteration {i} is {cost}')\n",
    "\n",
    "\n",
    "    plt.plot(costs)\n",
    "    plt.ylabel(\"Cost\")\n",
    "    plt.xlabel(\"iteration (x1000)\")\n",
    "    plt.title(f\"Learning rate : {learning_rate}\")\n",
    "    plt.show()\n",
    "\n",
    "    return parameters, dropout_aL, costs"
   ]
  },
  {
   "cell_type": "code",
   "execution_count": 40,
   "metadata": {},
   "outputs": [
    {
     "name": "stdout",
     "output_type": "stream",
     "text": [
      "Cost after iteration 0 is 0.6090414098966078\n",
      "Cost after iteration 500 is 0.21482622115361638\n",
      "Cost after iteration 1000 is 0.17554064308141965\n"
     ]
    },
    {
     "data": {
      "image/png": "[encoded data removed]",
      "text/plain": [
       "<Figure size 432x288 with 1 Axes>"
      ]
     },
     "metadata": {
      "needs_background": "light"
     },
     "output_type": "display_data"
    },
    {
     "name": "stdout",
     "output_type": "stream",
     "text": [
      "Accuracy (1st method) = 92.8909952606635\n",
      "Accuracy (2nd method) =92.89099526066352 \n",
      "Accuracy (1st method) = 93.0\n",
      "Accuracy (2nd method) =93.0 \n"
     ]
    }
   ],
   "source": [
    "dropout_parameters, dropout_aL, dropout_cost = dropout_model(x_train, y_train)\n",
    "_ = nn.predict(x_train, y_train, dropout_parameters)\n",
    "_ = nn.predict(x_test, y_test, dropout_parameters)"
   ]
  },
  {
   "cell_type": "code",
   "execution_count": 52,
   "metadata": {},
   "outputs": [],
   "source": [
    "def min_max_aL(data):\n",
    "    stats = []\n",
    "    for entry in data:\n",
    "        stat = []\n",
    "        stat.append(entry.min())\n",
    "        stat.append(entry.max())\n",
    "        stats.append(stat)\n",
    "\n",
    "    stat_df = pd.DataFrame(stats)\n",
    "    return stat_df"
   ]
  },
  {
   "cell_type": "code",
   "execution_count": 58,
   "metadata": {},
   "outputs": [
    {
     "data": {
      "text/html": [
       "<div>\n",
       "<style scoped>\n",
       "    .dataframe tbody tr th:only-of-type {\n",
       "        vertical-align: middle;\n",
       "    }\n",
       "\n",
       "    .dataframe tbody tr th {\n",
       "        vertical-align: top;\n",
       "    }\n",
       "\n",
       "    .dataframe thead th {\n",
       "        text-align: right;\n",
       "    }\n",
       "</style>\n",
       "<table border=\"1\" class=\"dataframe\">\n",
       "  <thead>\n",
       "    <tr style=\"text-align: right;\">\n",
       "      <th></th>\n",
       "      <th>0</th>\n",
       "      <th>1</th>\n",
       "    </tr>\n",
       "  </thead>\n",
       "  <tbody>\n",
       "    <tr>\n",
       "      <th>0</th>\n",
       "      <td>0.129637</td>\n",
       "      <td>0.597329</td>\n",
       "    </tr>\n",
       "    <tr>\n",
       "      <th>1</th>\n",
       "      <td>0.000309</td>\n",
       "      <td>0.990870</td>\n",
       "    </tr>\n",
       "    <tr>\n",
       "      <th>2</th>\n",
       "      <td>0.000161</td>\n",
       "      <td>0.997282</td>\n",
       "    </tr>\n",
       "    <tr>\n",
       "      <th>3</th>\n",
       "      <td>0.000139</td>\n",
       "      <td>0.999474</td>\n",
       "    </tr>\n",
       "    <tr>\n",
       "      <th>4</th>\n",
       "      <td>0.000190</td>\n",
       "      <td>0.999879</td>\n",
       "    </tr>\n",
       "    <tr>\n",
       "      <th>5</th>\n",
       "      <td>0.000258</td>\n",
       "      <td>0.999976</td>\n",
       "    </tr>\n",
       "    <tr>\n",
       "      <th>6</th>\n",
       "      <td>0.000294</td>\n",
       "      <td>0.999993</td>\n",
       "    </tr>\n",
       "    <tr>\n",
       "      <th>7</th>\n",
       "      <td>0.000387</td>\n",
       "      <td>0.999998</td>\n",
       "    </tr>\n",
       "    <tr>\n",
       "      <th>8</th>\n",
       "      <td>0.000452</td>\n",
       "      <td>0.999999</td>\n",
       "    </tr>\n",
       "    <tr>\n",
       "      <th>9</th>\n",
       "      <td>0.000438</td>\n",
       "      <td>1.000000</td>\n",
       "    </tr>\n",
       "    <tr>\n",
       "      <th>10</th>\n",
       "      <td>0.000398</td>\n",
       "      <td>1.000000</td>\n",
       "    </tr>\n",
       "    <tr>\n",
       "      <th>11</th>\n",
       "      <td>0.000305</td>\n",
       "      <td>1.000000</td>\n",
       "    </tr>\n",
       "    <tr>\n",
       "      <th>12</th>\n",
       "      <td>0.000228</td>\n",
       "      <td>1.000000</td>\n",
       "    </tr>\n",
       "    <tr>\n",
       "      <th>13</th>\n",
       "      <td>0.000169</td>\n",
       "      <td>1.000000</td>\n",
       "    </tr>\n",
       "    <tr>\n",
       "      <th>14</th>\n",
       "      <td>0.000112</td>\n",
       "      <td>1.000000</td>\n",
       "    </tr>\n",
       "  </tbody>\n",
       "</table>\n",
       "</div>"
      ],
      "text/plain": [
       "           0         1\n",
       "0   0.129637  0.597329\n",
       "1   0.000309  0.990870\n",
       "2   0.000161  0.997282\n",
       "3   0.000139  0.999474\n",
       "4   0.000190  0.999879\n",
       "5   0.000258  0.999976\n",
       "6   0.000294  0.999993\n",
       "7   0.000387  0.999998\n",
       "8   0.000452  0.999999\n",
       "9   0.000438  1.000000\n",
       "10  0.000398  1.000000\n",
       "11  0.000305  1.000000\n",
       "12  0.000228  1.000000\n",
       "13  0.000169  1.000000\n",
       "14  0.000112  1.000000"
      ]
     },
     "execution_count": 58,
     "metadata": {},
     "output_type": "execute_result"
    }
   ],
   "source": [
    "non_regularized_stats = min_max_aL(dropout_aL)\n",
    "non_regularized_stats.head(16)"
   ]
  }
 ],
 "metadata": {
  "interpreter": {
   "hash": "7287e2b844fdb9e9bb8df4208c5e278243b235ce7a3c7cba557f07ad1b5eb558"
  },
  "kernelspec": {
   "display_name": "Python 3.7.11 ('data-science')",
   "language": "python",
   "name": "python3"
  },
  "language_info": {
   "codemirror_mode": {
    "name": "ipython",
    "version": 3
   },
   "file_extension": ".py",
   "mimetype": "text/x-python",
   "name": "python",
   "nbconvert_exporter": "python",
   "pygments_lexer": "ipython3",
   "version": "3.7.11"
  },
  "orig_nbformat": 4
 },
 "nbformat": 4,
 "nbformat_minor": 2
}
