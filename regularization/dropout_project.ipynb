{
 "cells": [
  {
   "cell_type": "code",
   "execution_count": 4,
   "metadata": {},
   "outputs": [
    {
     "data": {
      "text/plain": [
       "<Figure size 432x288 with 0 Axes>"
      ]
     },
     "metadata": {},
     "output_type": "display_data"
    }
   ],
   "source": [
    "# Module Import\n",
    "import deep_nn as nn\n",
    "import dropout_and_regularization as dr\n",
    "\n",
    "# Package Import \n",
    "import numpy as np\n",
    "import matplotlib.pyplot as plt\n",
    "import os\n",
    "import scipy.io as sio\n",
    "import pandas as pd\n",
    "\n",
    "from numpy.testing import assert_almost_equal\n",
    "\n",
    "\n",
    "plt.tight_layout()"
   ]
  },
  {
   "cell_type": "markdown",
   "metadata": {},
   "source": [
    "#   Loading Data"
   ]
  },
  {
   "cell_type": "code",
   "execution_count": 5,
   "metadata": {},
   "outputs": [],
   "source": [
    "def load_dataset():\n",
    "    path = os.path.join(os.getcwd(), 'data', 'data.mat')\n",
    "    data = sio.loadmat(path)\n",
    "\n",
    "    x_train =  data['X'].T\n",
    "    y_train =  data['y'].T\n",
    "\n",
    "    x_test = data['Xval'].T\n",
    "    y_test = data['yval'].T\n",
    "\n",
    "    return x_train, y_train , x_test, y_test"
   ]
  },
  {
   "cell_type": "code",
   "execution_count": 6,
   "metadata": {},
   "outputs": [],
   "source": [
    "x_train, y_train, x_test, y_test = load_dataset()"
   ]
  },
  {
   "cell_type": "code",
   "execution_count": 7,
   "metadata": {},
   "outputs": [],
   "source": [
    "def dropout_model(x, y,keep_probs = 0.86, learning_rate = 0.3, numm_iterations = 30000, print_cost = True):\n",
    "    # 14% neurons will be dropped\n",
    "    grads = {}\n",
    "    costs = []\n",
    "    m = x.shape[1]\n",
    "    layer_dims = [x.shape[0], 20, 3,1]\n",
    "\n",
    "    parameters = nn.initialize_paraeters_deep(layer_dims)\n",
    "\n",
    "\n",
    "    for i in range(numm_iterations):\n",
    "        np.random.seed(1)\n",
    "        aL, caches, d_list = dr.dropout_L_model_forward(x, parameters ,keep_probs)\n",
    "        cost = nn.cross_entropy_cost(aL, y)\n",
    "        grads = dr.dropout_L_model_backward(aL, y , caches, d_list, keep_probs)\n",
    "        parameters = nn.update_parameters(parameters, grads, learning_rate)\n",
    "\n",
    "        if i % 1000 == 0:\n",
    "            costs.append(cost)\n",
    "            if print_cost:\n",
    "                print(f'Cost after iteration {i} is {cost}')\n",
    "\n",
    "\n",
    "    plt.plot(costs)\n",
    "    plt.ylabel(\"Cost\")\n",
    "    plt.xlabel(\"iteration (x1000)\")\n",
    "    plt.title(f\"Learning rate : {learning_rate}\")\n",
    "    plt.show()\n",
    "\n",
    "    return parameters, costs"
   ]
  },
  {
   "cell_type": "code",
   "execution_count": 8,
   "metadata": {},
   "outputs": [
    {
     "name": "stdout",
     "output_type": "stream",
     "text": [
      "Cost after iteration 0 is 0.6543912405149825\n",
      "Cost after iteration 500 is 0.2223835214169727\n",
      "Cost after iteration 1000 is 0.1759784892976791\n",
      "Cost after iteration 1500 is 0.14123484454984195\n",
      "Cost after iteration 2000 is 0.10396707442900774\n",
      "Cost after iteration 2500 is 0.08967208745888189\n",
      "Cost after iteration 3000 is 0.07661297787357768\n",
      "Cost after iteration 3500 is 0.07089880090076031\n"
     ]
    },
    {
     "name": "stderr",
     "output_type": "stream",
     "text": [
      "e:\\ml_practice\\regularization\\deep_nn.py:176: RuntimeWarning: divide by zero encountered in log\n",
      "  y_if_0 = np.multiply((1-y), np.log(1-A_L))\n",
      "e:\\ml_practice\\regularization\\deep_nn.py:176: RuntimeWarning: invalid value encountered in multiply\n",
      "  y_if_0 = np.multiply((1-y), np.log(1-A_L))\n",
      "e:\\ml_practice\\regularization\\dropout_and_regularization.py:186: RuntimeWarning: invalid value encountered in true_divide\n",
      "  da_L = - (np.divide(y, AL) - np.divide(1-y, 1-AL))\n"
     ]
    },
    {
     "name": "stdout",
     "output_type": "stream",
     "text": [
      "Cost after iteration 4000 is nan\n",
      "Cost after iteration 4500 is nan\n",
      "Cost after iteration 5000 is nan\n",
      "Cost after iteration 5500 is nan\n",
      "Cost after iteration 6000 is nan\n",
      "Cost after iteration 6500 is nan\n",
      "Cost after iteration 7000 is nan\n",
      "Cost after iteration 7500 is nan\n",
      "Cost after iteration 8000 is nan\n",
      "Cost after iteration 8500 is nan\n",
      "Cost after iteration 9000 is nan\n",
      "Cost after iteration 9500 is nan\n",
      "Cost after iteration 10000 is nan\n",
      "Cost after iteration 10500 is nan\n",
      "Cost after iteration 11000 is nan\n",
      "Cost after iteration 11500 is nan\n",
      "Cost after iteration 12000 is nan\n",
      "Cost after iteration 12500 is nan\n",
      "Cost after iteration 13000 is nan\n",
      "Cost after iteration 13500 is nan\n",
      "Cost after iteration 14000 is nan\n",
      "Cost after iteration 14500 is nan\n",
      "Cost after iteration 15000 is nan\n",
      "Cost after iteration 15500 is nan\n",
      "Cost after iteration 16000 is nan\n",
      "Cost after iteration 16500 is nan\n",
      "Cost after iteration 17000 is nan\n",
      "Cost after iteration 17500 is nan\n",
      "Cost after iteration 18000 is nan\n",
      "Cost after iteration 18500 is nan\n",
      "Cost after iteration 19000 is nan\n",
      "Cost after iteration 19500 is nan\n",
      "Cost after iteration 20000 is nan\n",
      "Cost after iteration 20500 is nan\n",
      "Cost after iteration 21000 is nan\n",
      "Cost after iteration 21500 is nan\n",
      "Cost after iteration 22000 is nan\n",
      "Cost after iteration 22500 is nan\n",
      "Cost after iteration 23000 is nan\n",
      "Cost after iteration 23500 is nan\n",
      "Cost after iteration 24000 is nan\n",
      "Cost after iteration 24500 is nan\n",
      "Cost after iteration 25000 is nan\n",
      "Cost after iteration 25500 is nan\n",
      "Cost after iteration 26000 is nan\n",
      "Cost after iteration 26500 is nan\n",
      "Cost after iteration 27000 is nan\n",
      "Cost after iteration 27500 is nan\n",
      "Cost after iteration 28000 is nan\n",
      "Cost after iteration 28500 is nan\n",
      "Cost after iteration 29000 is nan\n",
      "Cost after iteration 29500 is nan\n"
     ]
    },
    {
     "data": {
      "image/png": "[encoded data removed]",
      "text/plain": [
       "<Figure size 432x288 with 1 Axes>"
      ]
     },
     "metadata": {
      "needs_background": "light"
     },
     "output_type": "display_data"
    },
    {
     "name": "stdout",
     "output_type": "stream",
     "text": [
      "Training Accuracy =49.763033175355446 \n",
      "Test Accuracy =56.49999999999999 \n"
     ]
    }
   ],
   "source": [
    "# cache, d_list = dropout_model(x_train, y_train)\n",
    "dropout_parameters, dropout_cost = dropout_model(x_train, y_train)\n",
    "_ = nn.predict(x_train, y_train, dropout_parameters)\n",
    "_ = nn.predict(x_test, y_test, dropout_parameters, \"Test\")"
   ]
  },
  {
   "cell_type": "code",
   "execution_count": 9,
   "metadata": {},
   "outputs": [],
   "source": [
    "cache_dict = np.load('cache.npy', allow_pickle= True)"
   ]
  },
  {
   "cell_type": "code",
   "execution_count": 10,
   "metadata": {},
   "outputs": [
    {
     "name": "stdout",
     "output_type": "stream",
     "text": [
      "dict_keys(['Z1', 'D1', 'A1', 'W1', 'b1', 'Z2', 'D2', 'A2', 'W2', 'b2', 'Z3', 'A3', 'W3', 'b3'])\n"
     ]
    }
   ],
   "source": [
    "cache_dict = cache_dict.item()\n",
    "print(cache_dict.keys())"
   ]
  }
 ],
 "metadata": {
  "interpreter": {
   "hash": "7287e2b844fdb9e9bb8df4208c5e278243b235ce7a3c7cba557f07ad1b5eb558"
  },
  "kernelspec": {
   "display_name": "Python 3.7.11 ('data-science')",
   "language": "python",
   "name": "python3"
  },
  "language_info": {
   "codemirror_mode": {
    "name": "ipython",
    "version": 3
   },
   "file_extension": ".py",
   "mimetype": "text/x-python",
   "name": "python",
   "nbconvert_exporter": "python",
   "pygments_lexer": "ipython3",
   "version": "3.7.11"
  },
  "orig_nbformat": 4
 },
 "nbformat": 4,
 "nbformat_minor": 2
}
