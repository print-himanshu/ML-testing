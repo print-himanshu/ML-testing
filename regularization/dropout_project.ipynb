{
 "cells": [
  {
   "cell_type": "code",
   "execution_count": 2,
   "metadata": {},
   "outputs": [
    {
     "data": {
      "text/plain": [
       "<Figure size 432x288 with 0 Axes>"
      ]
     },
     "metadata": {},
     "output_type": "display_data"
    }
   ],
   "source": [
    "# Module Import\n",
    "import deep_nn as nn\n",
    "import dropout_and_regularization as dr\n",
    "\n",
    "# Package Import \n",
    "import numpy as np\n",
    "import matplotlib.pyplot as plt\n",
    "import os\n",
    "import scipy.io as sio\n",
    "import pandas as pd\n",
    "\n",
    "from numpy.testing import assert_almost_equal\n",
    "\n",
    "\n",
    "plt.tight_layout()"
   ]
  },
  {
   "cell_type": "markdown",
   "metadata": {},
   "source": [
    "#   Loading Data"
   ]
  },
  {
   "cell_type": "code",
   "execution_count": 3,
   "metadata": {},
   "outputs": [],
   "source": [
    "def load_dataset():\n",
    "    path = os.path.join(os.getcwd(), 'data', 'data.mat')\n",
    "    data = sio.loadmat(path)\n",
    "\n",
    "    x_train =  data['X'].T\n",
    "    y_train =  data['y'].T\n",
    "\n",
    "    x_test = data['Xval'].T\n",
    "    y_test = data['yval'].T\n",
    "\n",
    "    return x_train, y_train , x_test, y_test"
   ]
  },
  {
   "cell_type": "code",
   "execution_count": 4,
   "metadata": {},
   "outputs": [],
   "source": [
    "x_train, y_train, x_test, y_test = load_dataset()"
   ]
  },
  {
   "cell_type": "code",
   "execution_count": 5,
   "metadata": {},
   "outputs": [],
   "source": [
    "def correcting_aL(aL):\n",
    "    aL[aL == 0] = 1e-10\n",
    "    aL[aL == 1] = 1 - 1e-10\n",
    "\n",
    "    return aL"
   ]
  },
  {
   "cell_type": "code",
   "execution_count": 6,
   "metadata": {},
   "outputs": [],
   "source": [
    "def dropout_model(x, y,keep_probs = 0.86, learning_rate = 0.3, numm_iterations = 30000, print_cost = True):\n",
    "    # 14% neurons will be dropped\n",
    "    grads = {}\n",
    "    costs = []\n",
    "    m = x.shape[1]\n",
    "    layer_dims = [x.shape[0], 20, 3,1]\n",
    "\n",
    "    parameters = nn.initialize_paraeters_deep(layer_dims)\n",
    "\n",
    "\n",
    "    for i in range(numm_iterations):\n",
    "        np.random.seed(1)\n",
    "        aL, caches, d_list = dr.dropout_L_model_forward(x, parameters ,keep_probs)\n",
    "        aL = correcting_aL(aL)\n",
    "        cost = nn.cross_entropy_cost(aL, y)\n",
    "        grads = dr.dropout_L_model_backward(aL, y , caches, d_list, keep_probs)\n",
    "        parameters = nn.update_parameters(parameters, grads, learning_rate)\n",
    "\n",
    "        if i % 1000 == 0:\n",
    "            costs.append(cost)\n",
    "            if print_cost:\n",
    "                print(f'Cost after iteration {i} is {cost}')\n",
    "\n",
    "\n",
    "    plt.plot(costs)\n",
    "    plt.ylabel(\"Cost\")\n",
    "    plt.xlabel(\"iteration (x1000)\")\n",
    "    plt.title(f\"Learning rate : {learning_rate}\")\n",
    "    plt.show()\n",
    "\n",
    "    return parameters, costs"
   ]
  },
  {
   "cell_type": "code",
   "execution_count": 10,
   "metadata": {},
   "outputs": [
    {
     "name": "stdout",
     "output_type": "stream",
     "text": [
      "Cost after iteration 0 is 0.6543912405149825\n",
      "Cost after iteration 1000 is 0.1759784892976791\n",
      "Cost after iteration 2000 is 0.10396707442900774\n",
      "Cost after iteration 3000 is 0.07661297787357768\n",
      "Cost after iteration 4000 is 0.06719891269908362\n",
      "Cost after iteration 5000 is 0.06466905008662006\n",
      "Cost after iteration 6000 is 0.06240987260219459\n",
      "Cost after iteration 7000 is 0.06187873532073922\n",
      "Cost after iteration 8000 is 0.061433218161502844\n",
      "Cost after iteration 9000 is 0.06119214376711353\n",
      "Cost after iteration 10000 is 0.06101698658485821\n",
      "Cost after iteration 11000 is 0.06093245083706894\n",
      "Cost after iteration 12000 is 0.06082640197875734\n",
      "Cost after iteration 13000 is 0.06086264131264571\n",
      "Cost after iteration 14000 is 0.06083521538395621\n",
      "Cost after iteration 15000 is 0.06066457217550576\n",
      "Cost after iteration 16000 is 0.06064947239169945\n",
      "Cost after iteration 17000 is 0.06062585663537528\n",
      "Cost after iteration 18000 is 0.06065874507018473\n",
      "Cost after iteration 19000 is 0.06059651331721738\n",
      "Cost after iteration 20000 is 0.06058243581415292\n",
      "Cost after iteration 21000 is 0.06055919939655296\n",
      "Cost after iteration 22000 is 0.060578983917204655\n",
      "Cost after iteration 23000 is 0.06056461467936917\n",
      "Cost after iteration 24000 is 0.06050359028604576\n",
      "Cost after iteration 25000 is 0.06050179003973866\n",
      "Cost after iteration 26000 is 0.06052211742868685\n",
      "Cost after iteration 27000 is 0.0604731474083678\n",
      "Cost after iteration 28000 is 0.060472066937173184\n",
      "Cost after iteration 29000 is 0.060485966735457704\n"
     ]
    },
    {
     "data": {
      "image/png": "[encoded data removed]",
      "text/plain": [
       "<Figure size 432x288 with 1 Axes>"
      ]
     },
     "metadata": {
      "needs_background": "light"
     },
     "output_type": "display_data"
    },
    {
     "name": "stdout",
     "output_type": "stream",
     "text": [
      "\n",
      "\n",
      "Training Accuracy =92.89099526066352 \n",
      "Test Accuracy =95.0 \n"
     ]
    }
   ],
   "source": [
    "# cache, d_list = dropout_model(x_train, y_train)\n",
    "dropout_parameters, dropout_cost = dropout_model(x_train, y_train)\n",
    "print(\"\\n\")\n",
    "_ = nn.predict(x_train, y_train, dropout_parameters)\n",
    "_ = nn.predict(x_test, y_test, dropout_parameters, \"Test\")"
   ]
  }
 ],
 "metadata": {
  "interpreter": {
   "hash": "7287e2b844fdb9e9bb8df4208c5e278243b235ce7a3c7cba557f07ad1b5eb558"
  },
  "kernelspec": {
   "display_name": "Python 3.7.11 ('data-science')",
   "language": "python",
   "name": "python3"
  },
  "language_info": {
   "codemirror_mode": {
    "name": "ipython",
    "version": 3
   },
   "file_extension": ".py",
   "mimetype": "text/x-python",
   "name": "python",
   "nbconvert_exporter": "python",
   "pygments_lexer": "ipython3",
   "version": "3.7.11"
  },
  "orig_nbformat": 4
 },
 "nbformat": 4,
 "nbformat_minor": 2
}
