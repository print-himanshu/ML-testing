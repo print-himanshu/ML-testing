{
 "cells": [
  {
   "cell_type": "code",
   "execution_count": 1,
   "metadata": {},
   "outputs": [],
   "source": [
    "import numpy as np"
   ]
  },
  {
   "cell_type": "code",
   "execution_count": 2,
   "metadata": {},
   "outputs": [
    {
     "data": {
      "text/plain": [
       "array([[ 1.62434536],\n",
       "       [-0.61175641],\n",
       "       [-0.52817175],\n",
       "       [-1.07296862],\n",
       "       [ 0.86540763],\n",
       "       [-2.3015387 ],\n",
       "       [ 1.74481176],\n",
       "       [-0.7612069 ],\n",
       "       [ 0.3190391 ],\n",
       "       [-0.24937038]])"
      ]
     },
     "execution_count": 2,
     "metadata": {},
     "output_type": "execute_result"
    }
   ],
   "source": [
    "np.random.seed(1)\n",
    "\n",
    "\n",
    "weight = np.random.randn(10,1)\n",
    "\n",
    "weight"
   ]
  },
  {
   "cell_type": "code",
   "execution_count": 5,
   "metadata": {},
   "outputs": [],
   "source": [
    "train_data = np.array([\n",
    "    [2104., 400.],\n",
    "    [1600., 300.],\n",
    "    [2400., 369.],\n",
    "    [1416., 232.],\n",
    "    [3000., 540.],\n",
    "    [1985., 300.]\n",
    "])\n",
    "train_x , train_y = train_data[:,0], train_data[:,1]\n",
    "train_x, train_y = np.expand_dims(train_x, axis = 0), np.expand_dims(train_y, axis = 0)\n",
    "\n",
    "dev_data = np.array([\n",
    "    [1534., 315.],\n",
    "    [1427., 199.],\n",
    "])\n",
    "dev_x , dev_y = dev_data[:,0], dev_data[:,1]\n",
    "dev_x , dev_y = np.expand_dims(dev_x, axis = 0), np.expand_dims(dev_y, axis = 0)\n",
    "\n",
    "\n",
    "test_data = np.array([\n",
    "    [1380., 212.],\n",
    "    [1494., 243.]\n",
    "])\n",
    "test_x, test_y = test_data[:,0], test_data[:,1]\n",
    "test_x, test_y = np.expand_dims(test_x, axis = 0), np.expand_dims(test_y, axis = 0)\n"
   ]
  },
  {
   "cell_type": "markdown",
   "metadata": {},
   "source": [
    "## Weight Initialization"
   ]
  },
  {
   "cell_type": "code",
   "execution_count": null,
   "metadata": {},
   "outputs": [],
   "source": [
    "def weight_initialization(degree, m):\n",
    "    parameters = {}\n",
    "    \n",
    "    for l in range(degree):\n",
    "        l += 1\n",
    "        parameters[f'W{l}'] = np.random.randn(1, m)\n",
    "        parameters[f'b{l}'] = np.zeros((1,1))\n",
    "\n",
    "    return parameters"
   ]
  },
  {
   "cell_type": "markdown",
   "metadata": {},
   "source": [
    "## Hypothesis"
   ]
  },
  {
   "cell_type": "code",
   "execution_count": 6,
   "metadata": {},
   "outputs": [],
   "source": [
    "def hypothesis(x, parameters,  degree = 1):\n",
    "    m = x.shape(1)\n",
    "    h = 0\n",
    "\n",
    "    for l in range(degree):\n",
    "        l += 1\n",
    "        W, b = parameters[f'W{l}'], parameters[f'b{l}']\n",
    "        a_prev = np.power(x, l)\n",
    "\n",
    "        z =  np.dot(W, a_prev.T) + b\n",
    "        h += z\n",
    "\n",
    "    return h"
   ]
  },
  {
   "cell_type": "markdown",
   "metadata": {},
   "source": [
    "# Cost Function"
   ]
  },
  {
   "cell_type": "code",
   "execution_count": null,
   "metadata": {},
   "outputs": [],
   "source": [
    "def mse_cost(aL, y):\n",
    "    m = y.shape[1]\n",
    "    loss = np.power(aL - y, 2)\n",
    "\n",
    "    cost = 1/(2 * m) * np.sum(loss)\n",
    "    cost = np.squeeze(cost)\n",
    "\n",
    "    return cost"
   ]
  },
  {
   "cell_type": "markdown",
   "metadata": {},
   "source": [
    "# Model Selection"
   ]
  },
  {
   "cell_type": "code",
   "execution_count": null,
   "metadata": {},
   "outputs": [],
   "source": [
    "def model(train_x, train_y, dev_x, dev_y):\n",
    "    m_train = train_x.shape[1]\n",
    "\n",
    "    "
   ]
  }
 ],
 "metadata": {
  "kernelspec": {
   "display_name": "Python 3.7.11 ('data-science')",
   "language": "python",
   "name": "python3"
  },
  "language_info": {
   "codemirror_mode": {
    "name": "ipython",
    "version": 3
   },
   "file_extension": ".py",
   "mimetype": "text/x-python",
   "name": "python",
   "nbconvert_exporter": "python",
   "pygments_lexer": "ipython3",
   "version": "3.7.11"
  },
  "orig_nbformat": 4,
  "vscode": {
   "interpreter": {
    "hash": "7287e2b844fdb9e9bb8df4208c5e278243b235ce7a3c7cba557f07ad1b5eb558"
   }
  }
 },
 "nbformat": 4,
 "nbformat_minor": 2
}
