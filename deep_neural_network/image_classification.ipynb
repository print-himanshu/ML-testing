{
 "cells": [
  {
   "cell_type": "code",
   "execution_count": 1,
   "metadata": {},
   "outputs": [],
   "source": [
    "import numpy as np\n",
    "import h5py\n",
    "import os\n",
    "import matplotlib.pyplot as plt\n",
    "import deep_nn"
   ]
  },
  {
   "cell_type": "markdown",
   "metadata": {},
   "source": [
    "## Managing Data"
   ]
  },
  {
   "cell_type": "code",
   "execution_count": 2,
   "metadata": {},
   "outputs": [],
   "source": [
    "def load_data():\n",
    "    path = os.path.join(os.getcwd(), 'datasets', 'train_catvnoncat.h5')\n",
    "    training_data = h5py.File(path, 'r')\n",
    "\n",
    "    path = os.path.join(os.getcwd(), 'datasets', 'test_catvnoncat.h5')\n",
    "    testing_data = h5py.File(path, 'r')\n",
    "    \n",
    "    \n",
    "    train_x_orig = np.array(training_data['train_set_x'][:])\n",
    "    train_y = np.array(training_data['train_set_y'][:])\n",
    "\n",
    "    test_x_orig = np.array(testing_data['test_set_x'][:])\n",
    "    test_y = np.array(testing_data['test_set_y'][:])\n",
    "\n",
    "    classes = np.array(testing_data['list_classes'][:])\n",
    "\n",
    "    return train_x_orig, train_y, test_x_orig, test_y, classes\n",
    "\n"
   ]
  },
  {
   "cell_type": "code",
   "execution_count": 3,
   "metadata": {},
   "outputs": [],
   "source": [
    "train_x_orig, train_y, test_x_orig, test_y , classes = load_data()"
   ]
  },
  {
   "cell_type": "code",
   "execution_count": 4,
   "metadata": {},
   "outputs": [],
   "source": [
    "train_y = np.expand_dims(train_y, axis=0)\n",
    "test_y = np.expand_dims(test_y, axis=0)\n",
    "\n",
    "train_x = train_x_orig.reshape(train_x_orig.shape[0], -1).T / 255.\n",
    "test_x = test_x_orig.reshape(test_x_orig.shape[0], -1).T / 255.\n"
   ]
  },
  {
   "cell_type": "markdown",
   "metadata": {},
   "source": [
    "# Sample Example"
   ]
  },
  {
   "cell_type": "code",
   "execution_count": 5,
   "metadata": {},
   "outputs": [
    {
     "data": {
      "text/plain": [
       "array(1, dtype=int64)"
      ]
     },
     "execution_count": 5,
     "metadata": {},
     "output_type": "execute_result"
    }
   ],
   "source": [
    "np.squeeze(train_y[:,200])"
   ]
  },
  {
   "cell_type": "code",
   "execution_count": 6,
   "metadata": {},
   "outputs": [],
   "source": [
    "def plot_sample(index = 5):\n",
    "    plt.imshow(train_x_orig[index])\n",
    "    plt.title(\"Sample Image\")\n",
    "    y = np.squeeze(train_y[:,index])\n",
    "    print(f\"Image {index} : {classes[y].decode('utf-8')},\\n where y = {y}\")\n"
   ]
  },
  {
   "cell_type": "code",
   "execution_count": 7,
   "metadata": {},
   "outputs": [
    {
     "name": "stdout",
     "output_type": "stream",
     "text": [
      "Image 200 : cat,\n",
      " where y = 1\n"
     ]
    },
    {
     "data": {
      "image/png": "[encoded data removed]",
      "text/plain": [
       "<Figure size 432x288 with 1 Axes>"
      ]
     },
     "metadata": {
      "needs_background": "light"
     },
     "output_type": "display_data"
    }
   ],
   "source": [
    "plot_sample(200)"
   ]
  },
  {
   "cell_type": "markdown",
   "metadata": {},
   "source": [
    "## 2 Layer NN"
   ]
  },
  {
   "cell_type": "code",
   "execution_count": 8,
   "metadata": {},
   "outputs": [],
   "source": [
    "def two_layer_model(X, Y, n_h,  learning_rate=0.0075, num_iterations=3000, print_cost=False):\n",
    "    np.random.seed(1)\n",
    "    grads = {}\n",
    "    costs = []\n",
    "    n_x, m = X.shape\n",
    "    n_y = Y.shape[0]\n",
    "\n",
    "    W1 = np.random.randn(n_h, n_x) * 0.01\n",
    "    b1 = np.zeros((n_h, 1))\n",
    "    W2 = np.random.randn(n_y, n_h) * 0.01\n",
    "    b2 = np.zeros((n_y, 1))\n",
    "\n",
    "    parameters = {\"W1\": W1, \"b1\": b1, \"W2\": W2, 'b2': b2}\n",
    "\n",
    "    for i in range(num_iterations):\n",
    "        # Forward Propagation\n",
    "        a1, cache1 = deep_nn.linear_activation_forward(\n",
    "            X, W1, b1, activation='relu')\n",
    "        a2, cache2 = deep_nn.linear_activation_forward(\n",
    "            a1, W2, b2, activation='sigmoid')\n",
    "\n",
    "        # cost\n",
    "        cost = deep_nn.cost(a2, Y)\n",
    "        costs.append(cost)\n",
    "\n",
    "        # Backward Propagation\n",
    "        dA2 = -np.divide(Y,a2) + np.divide(1-Y, 1-a2)\n",
    "        dA1, dW2, db2 = deep_nn.linear_activation_backward(\n",
    "            dA2, cache2, activation='sigmoid')\n",
    "        dA0, dW1, db1 = deep_nn.linear_activation_backward(\n",
    "            dA1, cache1, activation='relu')\n",
    "\n",
    "        # Grads\n",
    "        grads['dW2'] = dW2\n",
    "        grads['db2'] = db2\n",
    "        grads['dW1'] = dW1\n",
    "        grads['db1'] = db1\n",
    "\n",
    "        # Update parameter\n",
    "        parameters = deep_nn.update_parameters(\n",
    "            parameters, grads, learning_rate)\n",
    "        W1 = parameters['W1']\n",
    "        b1 = parameters['b1']\n",
    "        W2 = parameters['W2']\n",
    "        b2 = parameters['b2']\n",
    "\n",
    "        if print_cost:\n",
    "            if i % 100 == 0:\n",
    "                costs.append(cost)\n",
    "                print(f\"Cost after iteration {i}: {cost}\")\n",
    "\n",
    "    plt.plot(costs)\n",
    "    plt.title(f\"Learning Rate = {learning_rate}\")\n",
    "    plt.ylabel(\"Cost\")\n",
    "    plt.xlabel(\"Number of Iteartion\")\n",
    "    plt.show()\n",
    "\n",
    "\n",
    "    return parameters"
   ]
  },
  {
   "cell_type": "code",
   "execution_count": 9,
   "metadata": {},
   "outputs": [
    {
     "name": "stdout",
     "output_type": "stream",
     "text": [
      "Cost after iteration 0: 0.693049735659989\n",
      "Cost after iteration 100: 0.6464320953428849\n",
      "Cost after iteration 200: 0.6325140647912677\n",
      "Cost after iteration 300: 0.6015024920354665\n",
      "Cost after iteration 400: 0.5601966311605747\n",
      "Cost after iteration 500: 0.5158304772764731\n",
      "Cost after iteration 600: 0.4754901313943325\n",
      "Cost after iteration 700: 0.43391631512257517\n",
      "Cost after iteration 800: 0.400797753620389\n",
      "Cost after iteration 900: 0.35807050113237937\n",
      "Cost after iteration 1000: 0.3394281538366411\n",
      "Cost after iteration 1100: 0.3052753636196268\n",
      "Cost after iteration 1200: 0.27491377282130275\n",
      "Cost after iteration 1300: 0.24681768210614793\n",
      "Cost after iteration 1400: 0.19850735037466122\n",
      "Cost after iteration 1500: 0.17448318112556363\n",
      "Cost after iteration 1600: 0.1708076297809549\n",
      "Cost after iteration 1700: 0.11306524562164766\n",
      "Cost after iteration 1800: 0.09629426845937145\n",
      "Cost after iteration 1900: 0.08342617959726881\n",
      "Cost after iteration 2000: 0.0743907870431909\n",
      "Cost after iteration 2100: 0.06630748132267913\n",
      "Cost after iteration 2200: 0.059193295010381654\n",
      "Cost after iteration 2300: 0.05336140348560549\n",
      "Cost after iteration 2400: 0.04855478562877016\n"
     ]
    },
    {
     "data": {
      "image/png": "[encoded data removed]",
      "text/plain": [
       "<Figure size 432x288 with 1 Axes>"
      ]
     },
     "metadata": {
      "needs_background": "light"
     },
     "output_type": "display_data"
    }
   ],
   "source": [
    "parameters = two_layer_model(train_x, train_y, 7, num_iterations = 2500, print_cost=True)"
   ]
  },
  {
   "cell_type": "code",
   "execution_count": 10,
   "metadata": {},
   "outputs": [
    {
     "name": "stdout",
     "output_type": "stream",
     "text": [
      "Accuracy (1st method) = 100.0\n",
      "Accuracy (2nd method) =100.0 \n"
     ]
    }
   ],
   "source": [
    "predictions_train = deep_nn.predict(train_x, train_y, parameters)"
   ]
  },
  {
   "cell_type": "code",
   "execution_count": 11,
   "metadata": {},
   "outputs": [
    {
     "name": "stdout",
     "output_type": "stream",
     "text": [
      "Accuracy (1st method) = 72.0\n",
      "Accuracy (2nd method) =72.0 \n"
     ]
    }
   ],
   "source": [
    "predictions_test = deep_nn.predict(test_x, test_y, parameters)"
   ]
  },
  {
   "cell_type": "markdown",
   "metadata": {},
   "source": [
    "# L Layer Model"
   ]
  },
  {
   "cell_type": "code",
   "execution_count": 16,
   "metadata": {},
   "outputs": [],
   "source": [
    "def  l_layer_model(X, Y , layer_dims, learning_rate = 0.0075, num_iterations = 3000, print_cost = True):\n",
    "    np.random.seed(1)\n",
    "    costs = []\n",
    "    \n",
    "\n",
    "    parameters = deep_nn.initialize_parameters_deep(layer_dims)\n",
    "\n",
    "    for i in range(num_iterations):\n",
    "        al, caches = deep_nn.L_model_forward(X, parameters)\n",
    "\n",
    "        cost = deep_nn.cost(al, Y)\n",
    "\n",
    "        grads = deep_nn.L_model_backward(al, Y , caches)\n",
    "\n",
    "        parameters = deep_nn.update_parameters(parameters, grads, learning_rate)\n",
    "\n",
    "\n",
    "        if print_cost:\n",
    "            if i % 100 == 0:\n",
    "                costs.append(cost)\n",
    "                print(f\"Cost after iteration {i} : {cost}\")\n",
    "\n",
    "    plt.plot(costs)\n",
    "    plt.title(f\"Learning Rate : {learning_rate}\")\n",
    "    plt.xlabel(\"Number of Iteration\")\n",
    "    plt.ylabel(\"Costs\")\n",
    "    plt.show()\n",
    "\n",
    "    return parameters"
   ]
  },
  {
   "cell_type": "code",
   "execution_count": 17,
   "metadata": {},
   "outputs": [
    {
     "name": "stdout",
     "output_type": "stream",
     "text": [
      "Cost after iteration 0 : 0.7157315134137129\n",
      "Cost after iteration 100 : 0.6747377593469114\n",
      "Cost after iteration 200 : 0.6603365433622126\n",
      "Cost after iteration 300 : 0.6462887802148751\n",
      "Cost after iteration 400 : 0.6298131216927774\n",
      "Cost after iteration 500 : 0.606005622926534\n",
      "Cost after iteration 600 : 0.5690041263975135\n",
      "Cost after iteration 700 : 0.519796535043806\n",
      "Cost after iteration 800 : 0.4641571678628231\n",
      "Cost after iteration 900 : 0.4084203004829893\n",
      "Cost after iteration 1000 : 0.37315499216069037\n",
      "Cost after iteration 1100 : 0.30572374573047134\n",
      "Cost after iteration 1200 : 0.2681015284774086\n",
      "Cost after iteration 1300 : 0.23872474827672555\n",
      "Cost after iteration 1400 : 0.20632263257914701\n",
      "Cost after iteration 1500 : 0.17943886927493488\n",
      "Cost after iteration 1600 : 0.15798735818800894\n",
      "Cost after iteration 1700 : 0.1424041301227351\n",
      "Cost after iteration 1800 : 0.12865165997883626\n",
      "Cost after iteration 1900 : 0.11244314998148541\n",
      "Cost after iteration 2000 : 0.08505631034954358\n",
      "Cost after iteration 2100 : 0.05758391198597225\n",
      "Cost after iteration 2200 : 0.0445675345468974\n",
      "Cost after iteration 2300 : 0.03808275166595648\n",
      "Cost after iteration 2400 : 0.034410749018389884\n"
     ]
    },
    {
     "data": {
      "image/png": "[encoded data removed]",
      "text/plain": [
       "<Figure size 432x288 with 1 Axes>"
      ]
     },
     "metadata": {
      "needs_background": "light"
     },
     "output_type": "display_data"
    }
   ],
   "source": [
    "layers_dims = [12288, 20, 7, 5, 1] #  4-layer model\n",
    "l_layer_parameters = l_layer_model(train_x, train_y, layers_dims, num_iterations=2500, print_cost = True)"
   ]
  },
  {
   "cell_type": "code",
   "execution_count": 18,
   "metadata": {},
   "outputs": [
    {
     "name": "stdout",
     "output_type": "stream",
     "text": [
      "Accuracy (1st method) = 99.52153110047847\n",
      "Accuracy (2nd method) =99.52153110047847 \n"
     ]
    }
   ],
   "source": [
    "predictions_train = deep_nn.predict(train_x, train_y, l_layer_parameters)"
   ]
  },
  {
   "cell_type": "code",
   "execution_count": 19,
   "metadata": {},
   "outputs": [
    {
     "name": "stdout",
     "output_type": "stream",
     "text": [
      "Accuracy (1st method) = 78.0\n",
      "Accuracy (2nd method) =78.0 \n"
     ]
    }
   ],
   "source": [
    "predictions_test = deep_nn.predict(test_x, test_y, l_layer_parameters)"
   ]
  }
 ],
 "metadata": {
  "interpreter": {
   "hash": "80101c2249ba180d7de53d0ea5a1c127e30cd6fcc94fe0f34ca72fc0040acb05"
  },
  "kernelspec": {
   "display_name": "Python 3.7.11 ('data-science')",
   "language": "python",
   "name": "python3"
  },
  "language_info": {
   "codemirror_mode": {
    "name": "ipython",
    "version": 3
   },
   "file_extension": ".py",
   "mimetype": "text/x-python",
   "name": "python",
   "nbconvert_exporter": "python",
   "pygments_lexer": "ipython3",
   "version": "3.7.11"
  },
  "orig_nbformat": 4
 },
 "nbformat": 4,
 "nbformat_minor": 2
}
